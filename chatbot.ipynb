{
 "cells": [
  {
   "cell_type": "code",
   "execution_count": 150,
   "id": "1ea12ce0",
   "metadata": {},
   "outputs": [],
   "source": [
    "from dotenv import load_dotenv\n",
    "from langchain_groq import ChatGroq\n",
    "from langchain.prompts import SystemMessagePromptTemplate, HumanMessagePromptTemplate, ChatPromptTemplate, MessagesPlaceholder"
   ]
  },
  {
   "cell_type": "code",
   "execution_count": 151,
   "id": "1e354553",
   "metadata": {},
   "outputs": [],
   "source": [
    "prompt_template = ChatPromptTemplate.from_messages([\n",
    "    SystemMessagePromptTemplate.from_template(\"You are a helpful AI Chatbot and you talk with user in {language} langugae. User's name is {name}\"),\n",
    "    HumanMessagePromptTemplate.from_template(\"User will talk friendly to Chatbot\"),\n",
    "    MessagesPlaceholder(variable_name=\"messages\")\n",
    "])"
   ]
  },
  {
   "cell_type": "code",
   "execution_count": 152,
   "id": "512a579c",
   "metadata": {},
   "outputs": [
    {
     "data": {
      "text/plain": [
       "True"
      ]
     },
     "execution_count": 152,
     "metadata": {},
     "output_type": "execute_result"
    }
   ],
   "source": [
    "load_dotenv()"
   ]
  },
  {
   "cell_type": "code",
   "execution_count": 153,
   "id": "69942534",
   "metadata": {},
   "outputs": [],
   "source": [
    "llm = ChatGroq(temperature=0, model='llama3-8b-8192')"
   ]
  },
  {
   "cell_type": "code",
   "execution_count": 154,
   "id": "b1772792",
   "metadata": {},
   "outputs": [],
   "source": [
    "from typing import TypedDict, Annotated\n",
    "from langchain_core.messages import BaseMessage, HumanMessage\n",
    "from langgraph.graph.message import add_messages, Sequence"
   ]
  },
  {
   "cell_type": "code",
   "execution_count": 155,
   "id": "dbce266e",
   "metadata": {},
   "outputs": [],
   "source": [
    "class State(TypedDict):\n",
    "    messages: Annotated[Sequence[BaseMessage], add_messages]\n",
    "    language: str\n",
    "    name: str"
   ]
  },
  {
   "cell_type": "code",
   "execution_count": 156,
   "id": "31ce36d7",
   "metadata": {},
   "outputs": [],
   "source": [
    "def model(state: State):\n",
    "    msg = prompt_template.invoke({\"messages\": state['messages'], \"language\": state['language'], \"name\": state[\"name\"]})\n",
    "    response = llm.invoke(msg)\n",
    "    return {\"messages\": [response]}"
   ]
  },
  {
   "cell_type": "code",
   "execution_count": 157,
   "id": "50acd8ba",
   "metadata": {},
   "outputs": [],
   "source": [
    "from langgraph.graph import StateGraph\n",
    "from langgraph.graph import START, END\n",
    "from langgraph.checkpoint.memory import MemorySaver"
   ]
  },
  {
   "cell_type": "code",
   "execution_count": 158,
   "id": "564c4446",
   "metadata": {},
   "outputs": [],
   "source": [
    "graph = StateGraph(state_schema=State)\n",
    "\n",
    "graph.add_edge(START, \"model\")\n",
    "graph.add_node(\"model\", model)\n",
    "\n",
    "memory = MemorySaver()\n",
    "\n",
    "app = graph.compile(checkpointer=memory)"
   ]
  },
  {
   "cell_type": "code",
   "execution_count": 159,
   "id": "71924750",
   "metadata": {},
   "outputs": [],
   "source": [
    "config = {\"configurable\": {\"thread_id\": \"user123\"}}\n",
    "query = \"My name is Prabal\"\n",
    "language  = \"hindi\"\n",
    "name = \"Pro\"\n",
    "input_msg = [HumanMessage(query)]"
   ]
  },
  {
   "cell_type": "code",
   "execution_count": 160,
   "id": "7d2187d9",
   "metadata": {},
   "outputs": [
    {
     "data": {
      "text/plain": [
       "{'messages': [HumanMessage(content='My name is Prabal', additional_kwargs={}, response_metadata={}, id='ad0eb722-db38-4955-a39c-9c720e687447'),\n",
       "  AIMessage(content='Prabal ji! मैं आपका स्वागत करता हूँ! (I welcome you!) क्या आप मुझसे कुछ बातचीत करना चाहते हैं? (What do you want to talk about?)', additional_kwargs={}, response_metadata={'token_usage': {'completion_tokens': 53, 'prompt_tokens': 60, 'total_tokens': 113, 'completion_time': 0.054902021, 'prompt_time': 0.007400627, 'queue_time': 0.272584883, 'total_time': 0.062302648}, 'model_name': 'llama3-8b-8192', 'system_fingerprint': 'fp_8b7c3a83f7', 'finish_reason': 'stop', 'logprobs': None}, id='run--57947061-0774-4f47-b547-cdd63e3a8454-0', usage_metadata={'input_tokens': 60, 'output_tokens': 53, 'total_tokens': 113})],\n",
       " 'language': 'hindi',\n",
       " 'name': 'Pro'}"
      ]
     },
     "execution_count": 160,
     "metadata": {},
     "output_type": "execute_result"
    }
   ],
   "source": [
    "app.invoke({\"messages\": input_msg, \"language\": language, \"name\": name}, config)"
   ]
  },
  {
   "cell_type": "code",
   "execution_count": null,
   "id": "d8211140",
   "metadata": {},
   "outputs": [],
   "source": []
  }
 ],
 "metadata": {
  "kernelspec": {
   "display_name": ".venv",
   "language": "python",
   "name": "python3"
  },
  "language_info": {
   "codemirror_mode": {
    "name": "ipython",
    "version": 3
   },
   "file_extension": ".py",
   "mimetype": "text/x-python",
   "name": "python",
   "nbconvert_exporter": "python",
   "pygments_lexer": "ipython3",
   "version": "3.12.8"
  }
 },
 "nbformat": 4,
 "nbformat_minor": 5
}
