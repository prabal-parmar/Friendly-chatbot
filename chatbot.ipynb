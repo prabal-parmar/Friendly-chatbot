{
 "cells": [
  {
   "cell_type": "code",
   "execution_count": 26,
   "id": "1ea12ce0",
   "metadata": {},
   "outputs": [],
   "source": [
    "from dotenv import load_dotenv\n",
    "from langchain_groq import ChatGroq\n",
    "from langchain.prompts import SystemMessagePromptTemplate, HumanMessagePromptTemplate, ChatPromptTemplate, MessagesPlaceholder"
   ]
  },
  {
   "cell_type": "code",
   "execution_count": 27,
   "id": "1e354553",
   "metadata": {},
   "outputs": [],
   "source": [
    "prompt_template = ChatPromptTemplate.from_messages([\n",
    "    SystemMessagePromptTemplate.from_template(\"You are a helpful AI Chatbot and you talk with user in {language} langugae. User's name is {name}\"),\n",
    "    HumanMessagePromptTemplate.from_template(\"User will talk friendly to Chatbot\"),\n",
    "    MessagesPlaceholder(variable_name=\"messages\")\n",
    "])"
   ]
  },
  {
   "cell_type": "code",
   "execution_count": 28,
   "id": "512a579c",
   "metadata": {},
   "outputs": [
    {
     "data": {
      "text/plain": [
       "True"
      ]
     },
     "execution_count": 28,
     "metadata": {},
     "output_type": "execute_result"
    }
   ],
   "source": [
    "load_dotenv()"
   ]
  },
  {
   "cell_type": "code",
   "execution_count": 29,
   "id": "69942534",
   "metadata": {},
   "outputs": [],
   "source": [
    "llm = ChatGroq(temperature=0, model='llama3-8b-8192')"
   ]
  },
  {
   "cell_type": "code",
   "execution_count": 30,
   "id": "b1772792",
   "metadata": {},
   "outputs": [],
   "source": [
    "from typing import TypedDict, Annotated\n",
    "from langchain_core.messages import BaseMessage, HumanMessage\n",
    "from langgraph.graph.message import add_messages, Sequence"
   ]
  },
  {
   "cell_type": "code",
   "execution_count": 31,
   "id": "dbce266e",
   "metadata": {},
   "outputs": [],
   "source": [
    "class State(TypedDict):\n",
    "    messages: Annotated[Sequence[BaseMessage], add_messages]\n",
    "    language: str\n",
    "    name: str"
   ]
  },
  {
   "cell_type": "code",
   "execution_count": 32,
   "id": "31ce36d7",
   "metadata": {},
   "outputs": [],
   "source": [
    "def model(state: State):\n",
    "    msg = prompt_template.invoke({\"messages\": state['messages'], \"language\": state['language'], \"name\": state[\"name\"]})\n",
    "    response = llm.invoke(msg)\n",
    "    return {\"messages\": [response]}"
   ]
  },
  {
   "cell_type": "code",
   "execution_count": 33,
   "id": "50acd8ba",
   "metadata": {},
   "outputs": [],
   "source": [
    "from langgraph.graph import StateGraph\n",
    "from langgraph.graph import START, END\n",
    "from langgraph.checkpoint.memory import MemorySaver"
   ]
  },
  {
   "cell_type": "code",
   "execution_count": 34,
   "id": "564c4446",
   "metadata": {},
   "outputs": [],
   "source": [
    "graph = StateGraph(state_schema=State)\n",
    "\n",
    "graph.add_edge(START, \"model\")\n",
    "graph.add_node(\"model\", model)\n",
    "\n",
    "memory = MemorySaver()\n",
    "\n",
    "app = graph.compile(checkpointer=memory)"
   ]
  },
  {
   "cell_type": "code",
   "execution_count": 35,
   "id": "71924750",
   "metadata": {},
   "outputs": [],
   "source": [
    "config = {\"configurable\": {\"thread_id\": \"user123\"}}\n",
    "query = \"My name is Prabal\"\n",
    "language  = \"hindi\"\n",
    "name = \"Pro\"\n",
    "input_msg = [HumanMessage(query)]"
   ]
  },
  {
   "cell_type": "code",
   "execution_count": 36,
   "id": "7d2187d9",
   "metadata": {},
   "outputs": [
    {
     "data": {
      "text/plain": [
       "{'messages': [HumanMessage(content='My name is Prabal', additional_kwargs={}, response_metadata={}, id='43cc98c9-3999-4026-b303-4f366f01706d'),\n",
       "  AIMessage(content='Prabal ji! मैं आपका स्वागत करता हूँ! (I welcome you!) क्या आप मुझसे कुछ बातचीत करना चाहते हैं? (What do you want to talk about?)', additional_kwargs={}, response_metadata={'token_usage': {'completion_tokens': 53, 'prompt_tokens': 60, 'total_tokens': 113, 'completion_time': 0.068339368, 'prompt_time': 0.019369034, 'queue_time': 0.267283516, 'total_time': 0.087708402}, 'model_name': 'llama3-8b-8192', 'system_fingerprint': 'fp_8af39bf2ae', 'finish_reason': 'stop', 'logprobs': None}, id='run--3c6f6fae-81eb-45da-842b-f228807cb1ff-0', usage_metadata={'input_tokens': 60, 'output_tokens': 53, 'total_tokens': 113})],\n",
       " 'language': 'hindi',\n",
       " 'name': 'Pro'}"
      ]
     },
     "execution_count": 36,
     "metadata": {},
     "output_type": "execute_result"
    }
   ],
   "source": [
    "app.invoke({\"messages\": input_msg, \"language\": language, \"name\": name}, config)"
   ]
  },
  {
   "cell_type": "code",
   "execution_count": 37,
   "id": "995117d2",
   "metadata": {},
   "outputs": [],
   "source": [
    "from langgraph.prebuilt import create_react_agent"
   ]
  },
  {
   "cell_type": "code",
   "execution_count": 38,
   "id": "3ea4a1a5",
   "metadata": {},
   "outputs": [
    {
     "name": "stdout",
     "output_type": "stream",
     "text": [
      "Requirement already satisfied: langchain-tavily in /Users/prabalparmar/ML/.venv/lib/python3.12/site-packages (0.2.4)\n",
      "Requirement already satisfied: aiohttp<4.0.0,>=3.11.14 in /Users/prabalparmar/ML/.venv/lib/python3.12/site-packages (from langchain-tavily) (3.11.18)\n",
      "Requirement already satisfied: langchain<0.4.0,>=0.3.20 in /Users/prabalparmar/ML/.venv/lib/python3.12/site-packages (from langchain-tavily) (0.3.25)\n",
      "Requirement already satisfied: langchain-core<0.4.0,>=0.3.15 in /Users/prabalparmar/ML/.venv/lib/python3.12/site-packages (from langchain-tavily) (0.3.63)\n",
      "Requirement already satisfied: mypy<2.0.0,>=1.15.0 in /Users/prabalparmar/ML/.venv/lib/python3.12/site-packages (from langchain-tavily) (1.16.1)\n",
      "Requirement already satisfied: requests<3.0.0,>=2.32.3 in /Users/prabalparmar/ML/.venv/lib/python3.12/site-packages (from langchain-tavily) (2.32.3)\n",
      "Requirement already satisfied: aiohappyeyeballs>=2.3.0 in /Users/prabalparmar/ML/.venv/lib/python3.12/site-packages (from aiohttp<4.0.0,>=3.11.14->langchain-tavily) (2.6.1)\n",
      "Requirement already satisfied: aiosignal>=1.1.2 in /Users/prabalparmar/ML/.venv/lib/python3.12/site-packages (from aiohttp<4.0.0,>=3.11.14->langchain-tavily) (1.3.2)\n",
      "Requirement already satisfied: attrs>=17.3.0 in /Users/prabalparmar/ML/.venv/lib/python3.12/site-packages (from aiohttp<4.0.0,>=3.11.14->langchain-tavily) (25.3.0)\n",
      "Requirement already satisfied: frozenlist>=1.1.1 in /Users/prabalparmar/ML/.venv/lib/python3.12/site-packages (from aiohttp<4.0.0,>=3.11.14->langchain-tavily) (1.6.0)\n",
      "Requirement already satisfied: multidict<7.0,>=4.5 in /Users/prabalparmar/ML/.venv/lib/python3.12/site-packages (from aiohttp<4.0.0,>=3.11.14->langchain-tavily) (6.4.4)\n",
      "Requirement already satisfied: propcache>=0.2.0 in /Users/prabalparmar/ML/.venv/lib/python3.12/site-packages (from aiohttp<4.0.0,>=3.11.14->langchain-tavily) (0.3.1)\n",
      "Requirement already satisfied: yarl<2.0,>=1.17.0 in /Users/prabalparmar/ML/.venv/lib/python3.12/site-packages (from aiohttp<4.0.0,>=3.11.14->langchain-tavily) (1.20.0)\n",
      "Requirement already satisfied: langchain-text-splitters<1.0.0,>=0.3.8 in /Users/prabalparmar/ML/.venv/lib/python3.12/site-packages (from langchain<0.4.0,>=0.3.20->langchain-tavily) (0.3.8)\n",
      "Requirement already satisfied: langsmith<0.4,>=0.1.17 in /Users/prabalparmar/ML/.venv/lib/python3.12/site-packages (from langchain<0.4.0,>=0.3.20->langchain-tavily) (0.3.42)\n",
      "Requirement already satisfied: pydantic<3.0.0,>=2.7.4 in /Users/prabalparmar/ML/.venv/lib/python3.12/site-packages (from langchain<0.4.0,>=0.3.20->langchain-tavily) (2.11.4)\n",
      "Requirement already satisfied: SQLAlchemy<3,>=1.4 in /Users/prabalparmar/ML/.venv/lib/python3.12/site-packages (from langchain<0.4.0,>=0.3.20->langchain-tavily) (2.0.41)\n",
      "Requirement already satisfied: PyYAML>=5.3 in /Users/prabalparmar/ML/.venv/lib/python3.12/site-packages (from langchain<0.4.0,>=0.3.20->langchain-tavily) (6.0.2)\n",
      "Requirement already satisfied: tenacity!=8.4.0,<10.0.0,>=8.1.0 in /Users/prabalparmar/ML/.venv/lib/python3.12/site-packages (from langchain-core<0.4.0,>=0.3.15->langchain-tavily) (9.1.2)\n",
      "Requirement already satisfied: jsonpatch<2.0,>=1.33 in /Users/prabalparmar/ML/.venv/lib/python3.12/site-packages (from langchain-core<0.4.0,>=0.3.15->langchain-tavily) (1.33)\n",
      "Requirement already satisfied: packaging<25,>=23.2 in /Users/prabalparmar/ML/.venv/lib/python3.12/site-packages (from langchain-core<0.4.0,>=0.3.15->langchain-tavily) (24.2)\n",
      "Requirement already satisfied: typing-extensions>=4.7 in /Users/prabalparmar/ML/.venv/lib/python3.12/site-packages (from langchain-core<0.4.0,>=0.3.15->langchain-tavily) (4.13.2)\n",
      "Requirement already satisfied: jsonpointer>=1.9 in /Users/prabalparmar/ML/.venv/lib/python3.12/site-packages (from jsonpatch<2.0,>=1.33->langchain-core<0.4.0,>=0.3.15->langchain-tavily) (3.0.0)\n",
      "Requirement already satisfied: httpx<1,>=0.23.0 in /Users/prabalparmar/ML/.venv/lib/python3.12/site-packages (from langsmith<0.4,>=0.1.17->langchain<0.4.0,>=0.3.20->langchain-tavily) (0.28.1)\n",
      "Requirement already satisfied: orjson<4.0.0,>=3.9.14 in /Users/prabalparmar/ML/.venv/lib/python3.12/site-packages (from langsmith<0.4,>=0.1.17->langchain<0.4.0,>=0.3.20->langchain-tavily) (3.10.18)\n",
      "Requirement already satisfied: requests-toolbelt<2.0.0,>=1.0.0 in /Users/prabalparmar/ML/.venv/lib/python3.12/site-packages (from langsmith<0.4,>=0.1.17->langchain<0.4.0,>=0.3.20->langchain-tavily) (1.0.0)\n",
      "Requirement already satisfied: zstandard<0.24.0,>=0.23.0 in /Users/prabalparmar/ML/.venv/lib/python3.12/site-packages (from langsmith<0.4,>=0.1.17->langchain<0.4.0,>=0.3.20->langchain-tavily) (0.23.0)\n",
      "Requirement already satisfied: anyio in /Users/prabalparmar/ML/.venv/lib/python3.12/site-packages (from httpx<1,>=0.23.0->langsmith<0.4,>=0.1.17->langchain<0.4.0,>=0.3.20->langchain-tavily) (4.9.0)\n",
      "Requirement already satisfied: certifi in /Users/prabalparmar/ML/.venv/lib/python3.12/site-packages (from httpx<1,>=0.23.0->langsmith<0.4,>=0.1.17->langchain<0.4.0,>=0.3.20->langchain-tavily) (2025.4.26)\n",
      "Requirement already satisfied: httpcore==1.* in /Users/prabalparmar/ML/.venv/lib/python3.12/site-packages (from httpx<1,>=0.23.0->langsmith<0.4,>=0.1.17->langchain<0.4.0,>=0.3.20->langchain-tavily) (1.0.9)\n",
      "Requirement already satisfied: idna in /Users/prabalparmar/ML/.venv/lib/python3.12/site-packages (from httpx<1,>=0.23.0->langsmith<0.4,>=0.1.17->langchain<0.4.0,>=0.3.20->langchain-tavily) (3.10)\n",
      "Requirement already satisfied: h11>=0.16 in /Users/prabalparmar/ML/.venv/lib/python3.12/site-packages (from httpcore==1.*->httpx<1,>=0.23.0->langsmith<0.4,>=0.1.17->langchain<0.4.0,>=0.3.20->langchain-tavily) (0.16.0)\n",
      "Requirement already satisfied: mypy_extensions>=1.0.0 in /Users/prabalparmar/ML/.venv/lib/python3.12/site-packages (from mypy<2.0.0,>=1.15.0->langchain-tavily) (1.1.0)\n",
      "Requirement already satisfied: pathspec>=0.9.0 in /Users/prabalparmar/ML/.venv/lib/python3.12/site-packages (from mypy<2.0.0,>=1.15.0->langchain-tavily) (0.12.1)\n",
      "Requirement already satisfied: annotated-types>=0.6.0 in /Users/prabalparmar/ML/.venv/lib/python3.12/site-packages (from pydantic<3.0.0,>=2.7.4->langchain<0.4.0,>=0.3.20->langchain-tavily) (0.7.0)\n",
      "Requirement already satisfied: pydantic-core==2.33.2 in /Users/prabalparmar/ML/.venv/lib/python3.12/site-packages (from pydantic<3.0.0,>=2.7.4->langchain<0.4.0,>=0.3.20->langchain-tavily) (2.33.2)\n",
      "Requirement already satisfied: typing-inspection>=0.4.0 in /Users/prabalparmar/ML/.venv/lib/python3.12/site-packages (from pydantic<3.0.0,>=2.7.4->langchain<0.4.0,>=0.3.20->langchain-tavily) (0.4.0)\n",
      "Requirement already satisfied: charset-normalizer<4,>=2 in /Users/prabalparmar/ML/.venv/lib/python3.12/site-packages (from requests<3.0.0,>=2.32.3->langchain-tavily) (3.4.2)\n",
      "Requirement already satisfied: urllib3<3,>=1.21.1 in /Users/prabalparmar/ML/.venv/lib/python3.12/site-packages (from requests<3.0.0,>=2.32.3->langchain-tavily) (2.4.0)\n",
      "Requirement already satisfied: sniffio>=1.1 in /Users/prabalparmar/ML/.venv/lib/python3.12/site-packages (from anyio->httpx<1,>=0.23.0->langsmith<0.4,>=0.1.17->langchain<0.4.0,>=0.3.20->langchain-tavily) (1.3.1)\n"
     ]
    }
   ],
   "source": [
    "!pip install langchain-tavily"
   ]
  },
  {
   "cell_type": "code",
   "execution_count": 39,
   "id": "65f0f1f0",
   "metadata": {},
   "outputs": [],
   "source": [
    "from langchain_tavily import TavilySearch"
   ]
  },
  {
   "cell_type": "code",
   "execution_count": 51,
   "id": "9cf497f9",
   "metadata": {},
   "outputs": [],
   "source": [
    "def get_weather(city: str):\n",
    "    \"\"\"Get weather for given city\"\"\"\n",
    "    return f\"It is sunny in {city}\""
   ]
  },
  {
   "cell_type": "code",
   "execution_count": 52,
   "id": "a7a2cd0e",
   "metadata": {},
   "outputs": [],
   "source": [
    "search = TavilySearch(max_results=2)"
   ]
  },
  {
   "cell_type": "code",
   "execution_count": 57,
   "id": "2b0f6aeb",
   "metadata": {},
   "outputs": [],
   "source": [
    "tools = [get_weather]"
   ]
  },
  {
   "cell_type": "code",
   "execution_count": 59,
   "id": "d8211140",
   "metadata": {},
   "outputs": [],
   "source": [
    "agent_executor = create_react_agent(model=llm, tools=tools)"
   ]
  },
  {
   "cell_type": "code",
   "execution_count": 60,
   "id": "d1f445f0",
   "metadata": {},
   "outputs": [],
   "source": [
    "query1 = {\"role\": \"user\", \"content\": \"What is the weather in Indore India?\"}\n",
    "config1 = {\"configurable\": {\"thread_id\": \"user123\"}}"
   ]
  },
  {
   "cell_type": "code",
   "execution_count": 61,
   "id": "9a2226a0",
   "metadata": {},
   "outputs": [
    {
     "data": {
      "text/plain": [
       "'It is sunny in Indore.'"
      ]
     },
     "execution_count": 61,
     "metadata": {},
     "output_type": "execute_result"
    }
   ],
   "source": [
    "agent_executor.invoke({\"messages\": query1}, config1)[\"messages\"][-1].content"
   ]
  },
  {
   "cell_type": "code",
   "execution_count": null,
   "id": "ae9e7ca8",
   "metadata": {},
   "outputs": [],
   "source": []
  }
 ],
 "metadata": {
  "kernelspec": {
   "display_name": ".venv",
   "language": "python",
   "name": "python3"
  },
  "language_info": {
   "codemirror_mode": {
    "name": "ipython",
    "version": 3
   },
   "file_extension": ".py",
   "mimetype": "text/x-python",
   "name": "python",
   "nbconvert_exporter": "python",
   "pygments_lexer": "ipython3",
   "version": "3.12.8"
  }
 },
 "nbformat": 4,
 "nbformat_minor": 5
}
